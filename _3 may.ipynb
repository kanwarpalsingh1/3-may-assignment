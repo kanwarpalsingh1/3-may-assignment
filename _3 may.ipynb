{
 "cells": [
  {
   "cell_type": "markdown",
   "id": "aeda28af-a4df-4183-86a6-d0c2b6767a5b",
   "metadata": {},
   "source": [
    "\n",
    "Q1. Role of Feature Selection in Anomaly Detection:\n",
    "\n",
    "Feature selection plays a crucial role in anomaly detection by identifying relevant attributes that contribute to distinguishing between normal and anomalous instances.\n",
    "Selecting informative features can improve the performance of anomaly detection algorithms by reducing noise, dimensionality, and computational complexity.\n",
    "Q2. Common Evaluation Metrics for Anomaly Detection:\n",
    "\n",
    "True Positive Rate (TPR) or Recall: Measures the proportion of true anomalies correctly identified by the algorithm.\n",
    "False Positive Rate (FPR): Measures the proportion of normal instances incorrectly classified as anomalies.\n",
    "Precision: Measures the proportion of true anomalies among all instances identified as anomalies.\n",
    "F1 Score: Harmonic mean of precision and recall, providing a balanced measure of anomaly detection performance.\n",
    "Area Under the Receiver Operating Characteristic (ROC AUC): Measures the trade-off between TPR and FPR across different thresholds.\n",
    "Q3. DBSCAN (Density-Based Spatial Clustering of Applications with Noise):\n",
    "\n",
    "DBSCAN is a density-based clustering algorithm that groups together closely packed points based on density within the dataset.\n",
    "It defines clusters as areas of high-density separated by areas of low-density, allowing it to identify clusters of arbitrary shapes and sizes.\n",
    "Q4. Effect of Epsilon Parameter in DBSCAN:\n",
    "\n",
    "The epsilon parameter, denoted as ε, determines the radius within which neighboring points are considered part of the same cluster.\n",
    "Larger values of ε lead to fewer clusters being identified, potentially merging smaller clusters into larger ones.\n",
    "Smaller values of ε result in more clusters being formed, potentially isolating individual data points as noise or outliers.\n",
    "Q5. Differences Between Core, Border, and Noise Points in DBSCAN:\n",
    "\n",
    "Core Points: Data points within a cluster that have at least minPts neighboring points within a distance of ε.\n",
    "Border Points: Data points within a cluster that have fewer than minPts neighboring points within ε but are reachable from core points.\n",
    "Noise Points: Data points that are not core points and cannot be reached by any other point within ε.\n",
    "Q6. How DBSCAN Detects Anomalies and Key Parameters:\n",
    "\n",
    "DBSCAN detects anomalies as noise points that do not belong to any cluster.\n",
    "Key parameters include ε (epsilon), the minimum number of points (minPts), and the distance metric used to calculate neighborhood density.\n",
    "Q7. make_circles Package in Scikit-Learn:\n",
    "\n",
    "The make_circles package is used to generate synthetic 2D datasets with concentric circles, making it suitable for testing clustering algorithms like DBSCAN.\n",
    "Q8. Local Outliers vs. Global Outliers:\n",
    "\n",
    "Local outliers are anomalies that are unusual within their local neighborhood but may not be anomalous globally across the entire dataset.\n",
    "Global outliers are anomalies that deviate significantly from the overall distribution of data points in the dataset.\n",
    "Q9. Detection of Local Outliers Using the Local Outlier Factor (LOF) Algorithm:\n",
    "\n",
    "LOF measures the local density deviation of a data point with respect to its neighbors and identifies points with significantly lower density as local outliers.\n",
    "Local outliers have higher LOF scores, indicating their deviation from the density of surrounding points.\n",
    "Q10. Detection of Global Outliers Using the Isolation Forest Algorithm:\n",
    "\n",
    "Isolation Forest isolates anomalies by recursively partitioning the dataset into subsets using random feature splits.\n",
    "Global outliers have shorter average path lengths in the isolation forest, indicating their isolation from other data points.\n",
    "Q11. Real-World Applications of Local and Global Outlier Detection:\n",
    "\n",
    "Local outlier detection is more appropriate for detecting anomalies in spatial data, such as network intrusion detection or fraud detection in localized regions.\n",
    "Global outlier detection is useful for identifying anomalies in large-scale datasets, such as identifying rare events in healthcare or finance.\n",
    "\n",
    "\n",
    "\n"
   ]
  },
  {
   "cell_type": "code",
   "execution_count": null,
   "id": "25e0e9f7-b3a5-4533-b21c-07fbbd13f600",
   "metadata": {},
   "outputs": [],
   "source": []
  }
 ],
 "metadata": {
  "kernelspec": {
   "display_name": "Python 3 (ipykernel)",
   "language": "python",
   "name": "python3"
  },
  "language_info": {
   "codemirror_mode": {
    "name": "ipython",
    "version": 3
   },
   "file_extension": ".py",
   "mimetype": "text/x-python",
   "name": "python",
   "nbconvert_exporter": "python",
   "pygments_lexer": "ipython3",
   "version": "3.10.8"
  }
 },
 "nbformat": 4,
 "nbformat_minor": 5
}
